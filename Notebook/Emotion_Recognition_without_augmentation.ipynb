{
  "cells": [
    {
      "cell_type": "code",
      "source": [
        "import csv, zipfile, cv2, os, matplotlib.pyplot as plt, numpy as np, pandas as pd, torch, torch.nn as nn\n",
        "from PIL import Image\n",
        "from sklearn.preprocessing import LabelEncoder\n",
        "from torch.utils.data import Dataset, DataLoader\n",
        "from copy import deepcopy\n",
        "from torchvision import models\n"
      ],
      "metadata": {
        "id": "0ysJVtObo1Yf"
      },
      "execution_count": null,
      "outputs": []
    },
    {
      "cell_type": "code",
      "execution_count": 2,
      "metadata": {
        "id": "bjXVlgwT_w7G"
      },
      "outputs": [],
      "source": [
        "# Extracting Data\n",
        "with zipfile.ZipFile('images.zip', 'r') as zip_ref:\n",
        "    zip_ref.extractall('Data')\n"
      ]
    },
    {
      "cell_type": "code",
      "execution_count": 3,
      "metadata": {
        "id": "NiwpMm0D_wyU",
        "colab": {
          "base_uri": "https://localhost:8080/"
        },
        "outputId": "a0f6ec79-b934-423a-eb78-d7df6fff3e9c"
      },
      "outputs": [
        {
          "output_type": "stream",
          "name": "stdout",
          "text": [
            "neutral: 4982 images\n",
            "angry: 3993 images\n",
            "surprise: 3205 images\n",
            "happy: 7164 images\n",
            "disgust: 436 images\n",
            "sad: 4938 images\n",
            "fear: 4103 images\n"
          ]
        }
      ],
      "source": [
        "# Counting data\n",
        "base_path = '/content/Data/images/train'\n",
        "image_counts = {}\n",
        "for emotion_folder in os.listdir(base_path):\n",
        "    folder_path = os.path.join(base_path, emotion_folder)\n",
        "    if os.path.isdir(folder_path):\n",
        "        count = len([f for f in os.listdir(folder_path) if os.path.isfile(os.path.join(folder_path, f))])\n",
        "        image_counts[emotion_folder] = count\n",
        "\n",
        "for emotion, count in image_counts.items():\n",
        "    print(f\"{emotion}: {count} images\")\n"
      ]
    },
    {
      "cell_type": "code",
      "source": [
        "img_array=cv2.imread(\"/content/Data/images/train/angry/11315.jpg\")"
      ],
      "metadata": {
        "id": "O12R4ml2oh4E"
      },
      "execution_count": 4,
      "outputs": []
    },
    {
      "cell_type": "code",
      "source": [
        "plt.imshow(img_array)"
      ],
      "metadata": {
        "colab": {
          "base_uri": "https://localhost:8080/",
          "height": 448
        },
        "id": "4GSFkmDwoxOu",
        "outputId": "9e439025-3dc7-4c40-bc50-85a542b62c1f"
      },
      "execution_count": 5,
      "outputs": [
        {
          "output_type": "execute_result",
          "data": {
            "text/plain": [
              "<matplotlib.image.AxesImage at 0x7fb7a539a5d0>"
            ]
          },
          "metadata": {},
          "execution_count": 5
        },
        {
          "output_type": "display_data",
          "data": {
            "text/plain": [
              "<Figure size 640x480 with 1 Axes>"
            ],
            "image/png": "[encoded data removed]"
          },
          "metadata": {}
        }
      ]
    },
    {
      "cell_type": "code",
      "source": [
        "img_array.shape"
      ],
      "metadata": {
        "colab": {
          "base_uri": "https://localhost:8080/"
        },
        "id": "_BMbnDQjo405",
        "outputId": "da9e9805-d852-4d85-bc8b-f6bf289c0886"
      },
      "execution_count": 6,
      "outputs": [
        {
          "output_type": "execute_result",
          "data": {
            "text/plain": [
              "(48, 48, 3)"
            ]
          },
          "metadata": {},
          "execution_count": 6
        }
      ]
    },
    {
      "cell_type": "code",
      "execution_count": 7,
      "metadata": {
        "id": "axH65W-xqx8Z"
      },
      "outputs": [],
      "source": [
        "#creating .npy file for training data\n",
        "\n",
        "source_dir = \"/content/Data/images/train\"\n",
        "save_dir = \"/content/Data/images/norm_train\"\n",
        "\n",
        "for emotion in os.listdir(source_dir):\n",
        "    emotion_folder = os.path.join(source_dir, emotion)\n",
        "    save_emotion_folder = os.path.join(save_dir, emotion)\n",
        "\n",
        "    if os.path.isdir(emotion_folder):\n",
        "        os.makedirs(save_emotion_folder, exist_ok=True)\n",
        "\n",
        "        for file in os.listdir(emotion_folder):\n",
        "            file_path = os.path.join(emotion_folder, file)\n",
        "            file_name, _ = os.path.splitext(file)\n",
        "            save_path = os.path.join(save_emotion_folder, file_name + \".npy\")\n",
        "\n",
        "            try:\n",
        "                with Image.open(file_path) as img:\n",
        "                    img = img.convert(\"RGB\")\n",
        "                    img = img.resize((224, 224))\n",
        "                    pixels = np.array(img, dtype=np.float32) / 255.0\n",
        "                    pixels = np.transpose(pixels, (2, 0, 1))\n",
        "                    np.save(save_path, pixels)\n",
        "            except Exception as e:\n",
        "                print(f\"Error processing {file_path}: {e}\")\n"
      ]
    },
    {
      "cell_type": "code",
      "execution_count": 8,
      "metadata": {
        "colab": {
          "base_uri": "https://localhost:8080/"
        },
        "id": "GBsQIpn67Wox",
        "outputId": "f4cd5eb7-aeef-48c8-842e-5d95b737d804"
      },
      "outputs": [
        {
          "output_type": "stream",
          "name": "stdout",
          "text": [
            "Label Mapping: {np.str_('angry'): np.int64(0), np.str_('disgust'): np.int64(1), np.str_('fear'): np.int64(2), np.str_('happy'): np.int64(3), np.str_('neutral'): np.int64(4), np.str_('sad'): np.int64(5), np.str_('surprise'): np.int64(6)}\n",
            "CSV saved at: /content/Data/images/norm_train/train.csv\n"
          ]
        }
      ],
      "source": [
        "# creating .csv file for training data\n",
        "\n",
        "root_dir = \"/content/Data/images/norm_train\"\n",
        "csv_path = os.path.join(root_dir, \"train.csv\")\n",
        "\n",
        "# Get all emotion folder names (labels)\n",
        "emotions = sorted([d for d in os.listdir(root_dir) if os.path.isdir(os.path.join(root_dir, d))])\n",
        "\n",
        "# Step 2: Encode labels\n",
        "label_encoder = LabelEncoder()\n",
        "label_encoder.fit(emotions)\n",
        "\n",
        "# print label mapping\n",
        "label_map = dict(zip(label_encoder.classes_, label_encoder.transform(label_encoder.classes_)))\n",
        "print(\"Label Mapping:\", label_map)\n",
        "\n",
        "# Write CSV\n",
        "with open(csv_path, mode='w', newline='') as file:\n",
        "    writer = csv.writer(file)\n",
        "    writer.writerow(['path', 'label'])\n",
        "\n",
        "    for emotion in emotions:\n",
        "        emotion_dir = os.path.join(root_dir, emotion)\n",
        "        label = label_encoder.transform([emotion])[0]\n",
        "\n",
        "        for filename in os.listdir(emotion_dir):\n",
        "            if filename.endswith(\".npy\"):\n",
        "                rel_path = os.path.join(emotion, filename)\n",
        "                writer.writerow([rel_path, label])\n",
        "\n",
        "print(f\"CSV saved at: {csv_path}\")\n"
      ]
    },
    {
      "cell_type": "code",
      "execution_count": 9,
      "metadata": {
        "id": "Y43m8M69CmSX"
      },
      "outputs": [],
      "source": [
        "#creating .npy file for validation data\n",
        "source_dir = \"/content/Data/images/validation\"\n",
        "save_dir = \"/content/Data/images/norm_validation\"\n",
        "\n",
        "for emotion in os.listdir(source_dir):\n",
        "    emotion_folder = os.path.join(source_dir, emotion)\n",
        "    save_emotion_folder = os.path.join(save_dir, emotion)\n",
        "\n",
        "    if os.path.isdir(emotion_folder):\n",
        "        os.makedirs(save_emotion_folder, exist_ok=True)\n",
        "\n",
        "        for file in os.listdir(emotion_folder):\n",
        "            file_path = os.path.join(emotion_folder, file)\n",
        "            file_name, _ = os.path.splitext(file)\n",
        "            save_path = os.path.join(save_emotion_folder, file_name + \".npy\")\n",
        "\n",
        "            try:\n",
        "                with Image.open(file_path) as img:\n",
        "                    img = img.convert(\"RGB\")\n",
        "                    img = img.resize((224, 224))\n",
        "                    pixels = np.array(img, dtype=np.float32) / 255.0\n",
        "                    pixels = np.transpose(pixels, (2, 0, 1))\n",
        "                    np.save(save_path, pixels)\n",
        "            except Exception as e:\n",
        "                print(f\"Error processing {file_path}: {e}\")"
      ]
    },
    {
      "cell_type": "code",
      "execution_count": 10,
      "metadata": {
        "colab": {
          "base_uri": "https://localhost:8080/"
        },
        "id": "7c6kzOzVDCuW",
        "outputId": "99e2f906-742a-4002-9705-0b7379a08bf9"
      },
      "outputs": [
        {
          "output_type": "stream",
          "name": "stdout",
          "text": [
            "Label Mapping: {np.str_('angry'): np.int64(0), np.str_('disgust'): np.int64(1), np.str_('fear'): np.int64(2), np.str_('happy'): np.int64(3), np.str_('neutral'): np.int64(4), np.str_('sad'): np.int64(5), np.str_('surprise'): np.int64(6)}\n",
            "CSV saved at: /content/Data/images/norm_validation/val.csv\n"
          ]
        }
      ],
      "source": [
        "# Creating .csv file for validation data\n",
        "root_dir = \"/content/Data/images/norm_validation\"\n",
        "csv_path = os.path.join(root_dir, \"val.csv\")\n",
        "\n",
        "# Get all emotion folder names (labels)\n",
        "emotions = sorted([d for d in os.listdir(root_dir) if os.path.isdir(os.path.join(root_dir, d))])\n",
        "\n",
        "# Encode labels\n",
        "label_encoder = LabelEncoder()\n",
        "label_encoder.fit(emotions)\n",
        "\n",
        "# Print label mapping\n",
        "label_map = dict(zip(label_encoder.classes_, label_encoder.transform(label_encoder.classes_)))\n",
        "print(\"Label Mapping:\", label_map)\n",
        "\n",
        "# Write CSV\n",
        "with open(csv_path, mode='w', newline='') as file:\n",
        "    writer = csv.writer(file)\n",
        "    writer.writerow(['path', 'label'])  # header\n",
        "\n",
        "    for emotion in emotions:\n",
        "        emotion_dir = os.path.join(root_dir, emotion)\n",
        "        label = label_encoder.transform([emotion])[0]\n",
        "\n",
        "        for filename in os.listdir(emotion_dir):\n",
        "            if filename.endswith(\".npy\"):\n",
        "                rel_path = os.path.join(emotion, filename)\n",
        "                writer.writerow([rel_path, label])\n",
        "\n",
        "print(f\"CSV saved at: {csv_path}\")"
      ]
    },
    {
      "cell_type": "code",
      "execution_count": 11,
      "metadata": {
        "colab": {
          "base_uri": "https://localhost:8080/"
        },
        "id": "k8SoJ5dLDLcc",
        "outputId": "4fe16eea-e1c6-44ae-d82a-7c19321e5641"
      },
      "outputs": [
        {
          "output_type": "stream",
          "name": "stdout",
          "text": [
            "Total number of files: 28821\n"
          ]
        }
      ],
      "source": [
        "# Count total number of images\n",
        "base_path = \"Data/images/norm_train\"\n",
        "\n",
        "total_files = 0\n",
        "\n",
        "for emotion in os.listdir(base_path):\n",
        "    emotion_path = os.path.join(base_path, emotion)\n",
        "    if os.path.isdir(emotion_path):\n",
        "        files = [f for f in os.listdir(emotion_path) if os.path.isfile(os.path.join(emotion_path, f))]\n",
        "        total_files += len(files)\n",
        "\n",
        "print(f\"Total number of files: {total_files}\")\n"
      ]
    },
    {
      "cell_type": "code",
      "execution_count": 12,
      "metadata": {
        "id": "QK4nGVjpBaoc"
      },
      "outputs": [],
      "source": [
        "\n",
        "\n",
        "class EmotionDataset(Dataset):\n",
        "    def __init__(self, csv_file, root_dir):\n",
        "        self.data = pd.read_csv(csv_file)\n",
        "        self.root_dir = root_dir\n",
        "\n",
        "    def __len__(self):\n",
        "        return len(self.data)\n",
        "\n",
        "    def __getitem__(self, idx):\n",
        "        img_path = os.path.join(self.root_dir, self.data.iloc[idx, 0])\n",
        "        label = int(self.data.iloc[idx, 1])\n",
        "        image = np.load(img_path)\n",
        "        image = torch.tensor(image, dtype=torch.float32)\n",
        "\n",
        "        return image, label\n"
      ]
    },
    {
      "cell_type": "code",
      "execution_count": 13,
      "metadata": {
        "id": "z4jElm42Cc3_"
      },
      "outputs": [],
      "source": [
        "train_dataset = EmotionDataset(\"/content/Data/images/norm_train/train.csv\", \"/content/Data/images/norm_train\")\n",
        "val_dataset = EmotionDataset(\"/content/Data/images/norm_validation/val.csv\", \"/content/Data/images/norm_validation\")\n",
        "\n",
        "train_loader = DataLoader(train_dataset, batch_size=32, shuffle=True)\n",
        "val_loader = DataLoader(val_dataset, batch_size=32, shuffle=False)\n"
      ]
    },
    {
      "cell_type": "code",
      "execution_count": null,
      "metadata": {
        "id": "I777wpxhsSlk"
      },
      "outputs": [],
      "source": [
        "#Mobilenetv2\n",
        "# class EmotionMobileNetV2(nn.Module):\n",
        "#     def __init__(self, num_classes=7):\n",
        "#         super(EmotionMobileNetV2, self).__init__()\n",
        "\n",
        "#         # Load pretrained MobileNetV2\n",
        "#         self.base_model = models.mobilenet_v2(pretrained=True)\n",
        "\n",
        "#         # Freeze all layers initially\n",
        "#         for param in self.base_model.features.parameters():\n",
        "#             param.requires_grad = False\n",
        "\n",
        "#         # Remove original classifier\n",
        "#         self.base_model.classifier = nn.Identity()\n",
        "\n",
        "#         # Custom classification head with Dropout\n",
        "#         self.custom_classifier = nn.Sequential(\n",
        "#             nn.Linear(1280, 128),\n",
        "#             nn.ReLU(),\n",
        "#             nn.Dropout(0.3),\n",
        "#             nn.Linear(128, 64),\n",
        "#             nn.ReLU(),\n",
        "#             nn.Dropout(0.3),\n",
        "#             nn.Linear(64, num_classes)       # No softmax needed\n",
        "#         )\n",
        "\n",
        "#     def forward(self, x):\n",
        "#         x = self.base_model(x)\n",
        "#         x = self.custom_classifier(x)\n",
        "#         return x\n"
      ]
    },
    {
      "cell_type": "code",
      "execution_count": 15,
      "metadata": {
        "id": "E0C9a4U7u5hf"
      },
      "outputs": [],
      "source": [
        "class EmotionEfficientNetB0(nn.Module):\n",
        "    def __init__(self, num_classes=7):\n",
        "        super(EmotionEfficientNetB0, self).__init__()\n",
        "\n",
        "        # Load pretrained EfficientNet-B0\n",
        "        self.base_model = models.efficientnet_b0(pretrained=True)\n",
        "\n",
        "\n",
        "        for param in self.base_model.features.parameters():\n",
        "            param.requires_grad = False\n",
        "\n",
        "\n",
        "        self.base_model.classifier = nn.Identity()\n",
        "\n",
        "        self.custom_classifier = nn.Sequential(\n",
        "            nn.Linear(1280, 128),\n",
        "            nn.ReLU(),\n",
        "            nn.Dropout(0.3),\n",
        "            nn.Linear(128, 64),\n",
        "            nn.ReLU(),\n",
        "            nn.Dropout(0.3),\n",
        "            nn.Linear(64, num_classes)\n",
        "        )\n",
        "\n",
        "    def forward(self, x):\n",
        "        x = self.base_model(x)\n",
        "        x = self.custom_classifier(x)\n",
        "        return x\n"
      ]
    },
    {
      "cell_type": "code",
      "source": [
        "device = torch.device(\"cuda\" if torch.cuda.is_available() else \"cpu\")"
      ],
      "metadata": {
        "id": "hs-_LOVLwGmZ"
      },
      "execution_count": 16,
      "outputs": []
    },
    {
      "cell_type": "code",
      "source": [
        "from sklearn.utils.class_weight import compute_class_weight\n",
        "import numpy as np\n",
        "import torch.nn as nn\n",
        "\n",
        "targets = [label for _, label in train_dataset]\n",
        "\n",
        "class_weights = compute_class_weight(class_weight='balanced', classes=np.unique(targets), y=targets)\n",
        "class_weights = torch.tensor(class_weights, dtype=torch.float).to(device)\n",
        "\n",
        "criterion = nn.CrossEntropyLoss(weight=class_weights, label_smoothing=0.1)\n"
      ],
      "metadata": {
        "id": "lPRVKQaeq5SG"
      },
      "execution_count": 17,
      "outputs": []
    },
    {
      "cell_type": "code",
      "execution_count": 18,
      "metadata": {
        "id": "q19ZQ5PLEh9d",
        "colab": {
          "base_uri": "https://localhost:8080/"
        },
        "outputId": "b8cf3a79-ce9a-4359-c410-4a0f68de61c6"
      },
      "outputs": [
        {
          "output_type": "stream",
          "name": "stderr",
          "text": [
            "/usr/local/lib/python3.11/dist-packages/torchvision/models/_utils.py:208: UserWarning: The parameter 'pretrained' is deprecated since 0.13 and may be removed in the future, please use 'weights' instead.\n",
            "  warnings.warn(\n",
            "/usr/local/lib/python3.11/dist-packages/torchvision/models/_utils.py:223: UserWarning: Arguments other than a weight enum or `None` for 'weights' are deprecated since 0.13 and may be removed in the future. The current behavior is equivalent to passing `weights=EfficientNet_B0_Weights.IMAGENET1K_V1`. You can also use `weights=EfficientNet_B0_Weights.DEFAULT` to get the most up-to-date weights.\n",
            "  warnings.warn(msg)\n",
            "Downloading: \"https://download.pytorch.org/models/efficientnet_b0_rwightman-7f5810bc.pth\" to /root/.cache/torch/hub/checkpoints/efficientnet_b0_rwightman-7f5810bc.pth\n",
            "100%|██████████| 20.5M/20.5M [00:00<00:00, 160MB/s]\n"
          ]
        }
      ],
      "source": [
        "model=EmotionEfficientNetB0(num_classes=7).to(device)\n",
        "# #criterion = nn.CrossEntropyLoss()\n",
        "# optimizer = torch.optim.Adam(model.parameters(), lr=1e-4, weight_decay=5e-4)\n",
        "\n",
        "# scheduler = torch.optim.lr_scheduler.ReduceLROnPlateau(\n",
        "#     optimizer, mode='min', patience=3, factor=0.5, verbose=True\n",
        "# )\n",
        "\n",
        "optimizer = torch.optim.Adam(model.parameters(), lr=1e-3, weight_decay=1e-4)\n",
        "scheduler = torch.optim.lr_scheduler.CosineAnnealingLR(optimizer, T_max=25)\n",
        "\n",
        "best_acc = 0\n",
        "early_stop_counter = 0\n",
        "history = {\"train_acc\": [], \"val_acc\": [], \"train_loss\": [], \"val_loss\": []}\n"
      ]
    },
    {
      "cell_type": "code",
      "source": [
        "from torchsummary import summary\n",
        "summary(model, input_size=(3, 224, 224))\n"
      ],
      "metadata": {
        "colab": {
          "base_uri": "https://localhost:8080/"
        },
        "id": "lH9q9osI_tPe",
        "outputId": "147a2e4a-d9e0-4354-dfed-e649bebeb862"
      },
      "execution_count": 19,
      "outputs": [
        {
          "output_type": "stream",
          "name": "stdout",
          "text": [
            "----------------------------------------------------------------\n",
            "        Layer (type)               Output Shape         Param #\n",
            "================================================================\n",
            "            Conv2d-1         [-1, 32, 112, 112]             864\n",
            "       BatchNorm2d-2         [-1, 32, 112, 112]              64\n",
            "              SiLU-3         [-1, 32, 112, 112]               0\n",
            "            Conv2d-4         [-1, 32, 112, 112]             288\n",
            "       BatchNorm2d-5         [-1, 32, 112, 112]              64\n",
            "              SiLU-6         [-1, 32, 112, 112]               0\n",
            " AdaptiveAvgPool2d-7             [-1, 32, 1, 1]               0\n",
            "            Conv2d-8              [-1, 8, 1, 1]             264\n",
            "              SiLU-9              [-1, 8, 1, 1]               0\n",
            "           Conv2d-10             [-1, 32, 1, 1]             288\n",
            "          Sigmoid-11             [-1, 32, 1, 1]               0\n",
            "SqueezeExcitation-12         [-1, 32, 112, 112]               0\n",
            "           Conv2d-13         [-1, 16, 112, 112]             512\n",
            "      BatchNorm2d-14         [-1, 16, 112, 112]              32\n",
            "           MBConv-15         [-1, 16, 112, 112]               0\n",
            "           Conv2d-16         [-1, 96, 112, 112]           1,536\n",
            "      BatchNorm2d-17         [-1, 96, 112, 112]             192\n",
            "             SiLU-18         [-1, 96, 112, 112]               0\n",
            "           Conv2d-19           [-1, 96, 56, 56]             864\n",
            "      BatchNorm2d-20           [-1, 96, 56, 56]             192\n",
            "             SiLU-21           [-1, 96, 56, 56]               0\n",
            "AdaptiveAvgPool2d-22             [-1, 96, 1, 1]               0\n",
            "           Conv2d-23              [-1, 4, 1, 1]             388\n",
            "             SiLU-24              [-1, 4, 1, 1]               0\n",
            "           Conv2d-25             [-1, 96, 1, 1]             480\n",
            "          Sigmoid-26             [-1, 96, 1, 1]               0\n",
            "SqueezeExcitation-27           [-1, 96, 56, 56]               0\n",
            "           Conv2d-28           [-1, 24, 56, 56]           2,304\n",
            "      BatchNorm2d-29           [-1, 24, 56, 56]              48\n",
            "           MBConv-30           [-1, 24, 56, 56]               0\n",
            "           Conv2d-31          [-1, 144, 56, 56]           3,456\n",
            "      BatchNorm2d-32          [-1, 144, 56, 56]             288\n",
            "             SiLU-33          [-1, 144, 56, 56]               0\n",
            "           Conv2d-34          [-1, 144, 56, 56]           1,296\n",
            "      BatchNorm2d-35          [-1, 144, 56, 56]             288\n",
            "             SiLU-36          [-1, 144, 56, 56]               0\n",
            "AdaptiveAvgPool2d-37            [-1, 144, 1, 1]               0\n",
            "           Conv2d-38              [-1, 6, 1, 1]             870\n",
            "             SiLU-39              [-1, 6, 1, 1]               0\n",
            "           Conv2d-40            [-1, 144, 1, 1]           1,008\n",
            "          Sigmoid-41            [-1, 144, 1, 1]               0\n",
            "SqueezeExcitation-42          [-1, 144, 56, 56]               0\n",
            "           Conv2d-43           [-1, 24, 56, 56]           3,456\n",
            "      BatchNorm2d-44           [-1, 24, 56, 56]              48\n",
            "  StochasticDepth-45           [-1, 24, 56, 56]               0\n",
            "           MBConv-46           [-1, 24, 56, 56]               0\n",
            "           Conv2d-47          [-1, 144, 56, 56]           3,456\n",
            "      BatchNorm2d-48          [-1, 144, 56, 56]             288\n",
            "             SiLU-49          [-1, 144, 56, 56]               0\n",
            "           Conv2d-50          [-1, 144, 28, 28]           3,600\n",
            "      BatchNorm2d-51          [-1, 144, 28, 28]             288\n",
            "             SiLU-52          [-1, 144, 28, 28]               0\n",
            "AdaptiveAvgPool2d-53            [-1, 144, 1, 1]               0\n",
            "           Conv2d-54              [-1, 6, 1, 1]             870\n",
            "             SiLU-55              [-1, 6, 1, 1]               0\n",
            "           Conv2d-56            [-1, 144, 1, 1]           1,008\n",
            "          Sigmoid-57            [-1, 144, 1, 1]               0\n",
            "SqueezeExcitation-58          [-1, 144, 28, 28]               0\n",
            "           Conv2d-59           [-1, 40, 28, 28]           5,760\n",
            "      BatchNorm2d-60           [-1, 40, 28, 28]              80\n",
            "           MBConv-61           [-1, 40, 28, 28]               0\n",
            "           Conv2d-62          [-1, 240, 28, 28]           9,600\n",
            "      BatchNorm2d-63          [-1, 240, 28, 28]             480\n",
            "             SiLU-64          [-1, 240, 28, 28]               0\n",
            "           Conv2d-65          [-1, 240, 28, 28]           6,000\n",
            "      BatchNorm2d-66          [-1, 240, 28, 28]             480\n",
            "             SiLU-67          [-1, 240, 28, 28]               0\n",
            "AdaptiveAvgPool2d-68            [-1, 240, 1, 1]               0\n",
            "           Conv2d-69             [-1, 10, 1, 1]           2,410\n",
            "             SiLU-70             [-1, 10, 1, 1]               0\n",
            "           Conv2d-71            [-1, 240, 1, 1]           2,640\n",
            "          Sigmoid-72            [-1, 240, 1, 1]               0\n",
            "SqueezeExcitation-73          [-1, 240, 28, 28]               0\n",
            "           Conv2d-74           [-1, 40, 28, 28]           9,600\n",
            "      BatchNorm2d-75           [-1, 40, 28, 28]              80\n",
            "  StochasticDepth-76           [-1, 40, 28, 28]               0\n",
            "           MBConv-77           [-1, 40, 28, 28]               0\n",
            "           Conv2d-78          [-1, 240, 28, 28]           9,600\n",
            "      BatchNorm2d-79          [-1, 240, 28, 28]             480\n",
            "             SiLU-80          [-1, 240, 28, 28]               0\n",
            "           Conv2d-81          [-1, 240, 14, 14]           2,160\n",
            "      BatchNorm2d-82          [-1, 240, 14, 14]             480\n",
            "             SiLU-83          [-1, 240, 14, 14]               0\n",
            "AdaptiveAvgPool2d-84            [-1, 240, 1, 1]               0\n",
            "           Conv2d-85             [-1, 10, 1, 1]           2,410\n",
            "             SiLU-86             [-1, 10, 1, 1]               0\n",
            "           Conv2d-87            [-1, 240, 1, 1]           2,640\n",
            "          Sigmoid-88            [-1, 240, 1, 1]               0\n",
            "SqueezeExcitation-89          [-1, 240, 14, 14]               0\n",
            "           Conv2d-90           [-1, 80, 14, 14]          19,200\n",
            "      BatchNorm2d-91           [-1, 80, 14, 14]             160\n",
            "           MBConv-92           [-1, 80, 14, 14]               0\n",
            "           Conv2d-93          [-1, 480, 14, 14]          38,400\n",
            "      BatchNorm2d-94          [-1, 480, 14, 14]             960\n",
            "             SiLU-95          [-1, 480, 14, 14]               0\n",
            "           Conv2d-96          [-1, 480, 14, 14]           4,320\n",
            "      BatchNorm2d-97          [-1, 480, 14, 14]             960\n",
            "             SiLU-98          [-1, 480, 14, 14]               0\n",
            "AdaptiveAvgPool2d-99            [-1, 480, 1, 1]               0\n",
            "          Conv2d-100             [-1, 20, 1, 1]           9,620\n",
            "            SiLU-101             [-1, 20, 1, 1]               0\n",
            "          Conv2d-102            [-1, 480, 1, 1]          10,080\n",
            "         Sigmoid-103            [-1, 480, 1, 1]               0\n",
            "SqueezeExcitation-104          [-1, 480, 14, 14]               0\n",
            "          Conv2d-105           [-1, 80, 14, 14]          38,400\n",
            "     BatchNorm2d-106           [-1, 80, 14, 14]             160\n",
            " StochasticDepth-107           [-1, 80, 14, 14]               0\n",
            "          MBConv-108           [-1, 80, 14, 14]               0\n",
            "          Conv2d-109          [-1, 480, 14, 14]          38,400\n",
            "     BatchNorm2d-110          [-1, 480, 14, 14]             960\n",
            "            SiLU-111          [-1, 480, 14, 14]               0\n",
            "          Conv2d-112          [-1, 480, 14, 14]           4,320\n",
            "     BatchNorm2d-113          [-1, 480, 14, 14]             960\n",
            "            SiLU-114          [-1, 480, 14, 14]               0\n",
            "AdaptiveAvgPool2d-115            [-1, 480, 1, 1]               0\n",
            "          Conv2d-116             [-1, 20, 1, 1]           9,620\n",
            "            SiLU-117             [-1, 20, 1, 1]               0\n",
            "          Conv2d-118            [-1, 480, 1, 1]          10,080\n",
            "         Sigmoid-119            [-1, 480, 1, 1]               0\n",
            "SqueezeExcitation-120          [-1, 480, 14, 14]               0\n",
            "          Conv2d-121           [-1, 80, 14, 14]          38,400\n",
            "     BatchNorm2d-122           [-1, 80, 14, 14]             160\n",
            " StochasticDepth-123           [-1, 80, 14, 14]               0\n",
            "          MBConv-124           [-1, 80, 14, 14]               0\n",
            "          Conv2d-125          [-1, 480, 14, 14]          38,400\n",
            "     BatchNorm2d-126          [-1, 480, 14, 14]             960\n",
            "            SiLU-127          [-1, 480, 14, 14]               0\n",
            "          Conv2d-128          [-1, 480, 14, 14]          12,000\n",
            "     BatchNorm2d-129          [-1, 480, 14, 14]             960\n",
            "            SiLU-130          [-1, 480, 14, 14]               0\n",
            "AdaptiveAvgPool2d-131            [-1, 480, 1, 1]               0\n",
            "          Conv2d-132             [-1, 20, 1, 1]           9,620\n",
            "            SiLU-133             [-1, 20, 1, 1]               0\n",
            "          Conv2d-134            [-1, 480, 1, 1]          10,080\n",
            "         Sigmoid-135            [-1, 480, 1, 1]               0\n",
            "SqueezeExcitation-136          [-1, 480, 14, 14]               0\n",
            "          Conv2d-137          [-1, 112, 14, 14]          53,760\n",
            "     BatchNorm2d-138          [-1, 112, 14, 14]             224\n",
            "          MBConv-139          [-1, 112, 14, 14]               0\n",
            "          Conv2d-140          [-1, 672, 14, 14]          75,264\n",
            "     BatchNorm2d-141          [-1, 672, 14, 14]           1,344\n",
            "            SiLU-142          [-1, 672, 14, 14]               0\n",
            "          Conv2d-143          [-1, 672, 14, 14]          16,800\n",
            "     BatchNorm2d-144          [-1, 672, 14, 14]           1,344\n",
            "            SiLU-145          [-1, 672, 14, 14]               0\n",
            "AdaptiveAvgPool2d-146            [-1, 672, 1, 1]               0\n",
            "          Conv2d-147             [-1, 28, 1, 1]          18,844\n",
            "            SiLU-148             [-1, 28, 1, 1]               0\n",
            "          Conv2d-149            [-1, 672, 1, 1]          19,488\n",
            "         Sigmoid-150            [-1, 672, 1, 1]               0\n",
            "SqueezeExcitation-151          [-1, 672, 14, 14]               0\n",
            "          Conv2d-152          [-1, 112, 14, 14]          75,264\n",
            "     BatchNorm2d-153          [-1, 112, 14, 14]             224\n",
            " StochasticDepth-154          [-1, 112, 14, 14]               0\n",
            "          MBConv-155          [-1, 112, 14, 14]               0\n",
            "          Conv2d-156          [-1, 672, 14, 14]          75,264\n",
            "     BatchNorm2d-157          [-1, 672, 14, 14]           1,344\n",
            "            SiLU-158          [-1, 672, 14, 14]               0\n",
            "          Conv2d-159          [-1, 672, 14, 14]          16,800\n",
            "     BatchNorm2d-160          [-1, 672, 14, 14]           1,344\n",
            "            SiLU-161          [-1, 672, 14, 14]               0\n",
            "AdaptiveAvgPool2d-162            [-1, 672, 1, 1]               0\n",
            "          Conv2d-163             [-1, 28, 1, 1]          18,844\n",
            "            SiLU-164             [-1, 28, 1, 1]               0\n",
            "          Conv2d-165            [-1, 672, 1, 1]          19,488\n",
            "         Sigmoid-166            [-1, 672, 1, 1]               0\n",
            "SqueezeExcitation-167          [-1, 672, 14, 14]               0\n",
            "          Conv2d-168          [-1, 112, 14, 14]          75,264\n",
            "     BatchNorm2d-169          [-1, 112, 14, 14]             224\n",
            " StochasticDepth-170          [-1, 112, 14, 14]               0\n",
            "          MBConv-171          [-1, 112, 14, 14]               0\n",
            "          Conv2d-172          [-1, 672, 14, 14]          75,264\n",
            "     BatchNorm2d-173          [-1, 672, 14, 14]           1,344\n",
            "            SiLU-174          [-1, 672, 14, 14]               0\n",
            "          Conv2d-175            [-1, 672, 7, 7]          16,800\n",
            "     BatchNorm2d-176            [-1, 672, 7, 7]           1,344\n",
            "            SiLU-177            [-1, 672, 7, 7]               0\n",
            "AdaptiveAvgPool2d-178            [-1, 672, 1, 1]               0\n",
            "          Conv2d-179             [-1, 28, 1, 1]          18,844\n",
            "            SiLU-180             [-1, 28, 1, 1]               0\n",
            "          Conv2d-181            [-1, 672, 1, 1]          19,488\n",
            "         Sigmoid-182            [-1, 672, 1, 1]               0\n",
            "SqueezeExcitation-183            [-1, 672, 7, 7]               0\n",
            "          Conv2d-184            [-1, 192, 7, 7]         129,024\n",
            "     BatchNorm2d-185            [-1, 192, 7, 7]             384\n",
            "          MBConv-186            [-1, 192, 7, 7]               0\n",
            "          Conv2d-187           [-1, 1152, 7, 7]         221,184\n",
            "     BatchNorm2d-188           [-1, 1152, 7, 7]           2,304\n",
            "            SiLU-189           [-1, 1152, 7, 7]               0\n",
            "          Conv2d-190           [-1, 1152, 7, 7]          28,800\n",
            "     BatchNorm2d-191           [-1, 1152, 7, 7]           2,304\n",
            "            SiLU-192           [-1, 1152, 7, 7]               0\n",
            "AdaptiveAvgPool2d-193           [-1, 1152, 1, 1]               0\n",
            "          Conv2d-194             [-1, 48, 1, 1]          55,344\n",
            "            SiLU-195             [-1, 48, 1, 1]               0\n",
            "          Conv2d-196           [-1, 1152, 1, 1]          56,448\n",
            "         Sigmoid-197           [-1, 1152, 1, 1]               0\n",
            "SqueezeExcitation-198           [-1, 1152, 7, 7]               0\n",
            "          Conv2d-199            [-1, 192, 7, 7]         221,184\n",
            "     BatchNorm2d-200            [-1, 192, 7, 7]             384\n",
            " StochasticDepth-201            [-1, 192, 7, 7]               0\n",
            "          MBConv-202            [-1, 192, 7, 7]               0\n",
            "          Conv2d-203           [-1, 1152, 7, 7]         221,184\n",
            "     BatchNorm2d-204           [-1, 1152, 7, 7]           2,304\n",
            "            SiLU-205           [-1, 1152, 7, 7]               0\n",
            "          Conv2d-206           [-1, 1152, 7, 7]          28,800\n",
            "     BatchNorm2d-207           [-1, 1152, 7, 7]           2,304\n",
            "            SiLU-208           [-1, 1152, 7, 7]               0\n",
            "AdaptiveAvgPool2d-209           [-1, 1152, 1, 1]               0\n",
            "          Conv2d-210             [-1, 48, 1, 1]          55,344\n",
            "            SiLU-211             [-1, 48, 1, 1]               0\n",
            "          Conv2d-212           [-1, 1152, 1, 1]          56,448\n",
            "         Sigmoid-213           [-1, 1152, 1, 1]               0\n",
            "SqueezeExcitation-214           [-1, 1152, 7, 7]               0\n",
            "          Conv2d-215            [-1, 192, 7, 7]         221,184\n",
            "     BatchNorm2d-216            [-1, 192, 7, 7]             384\n",
            " StochasticDepth-217            [-1, 192, 7, 7]               0\n",
            "          MBConv-218            [-1, 192, 7, 7]               0\n",
            "          Conv2d-219           [-1, 1152, 7, 7]         221,184\n",
            "     BatchNorm2d-220           [-1, 1152, 7, 7]           2,304\n",
            "            SiLU-221           [-1, 1152, 7, 7]               0\n",
            "          Conv2d-222           [-1, 1152, 7, 7]          28,800\n",
            "     BatchNorm2d-223           [-1, 1152, 7, 7]           2,304\n",
            "            SiLU-224           [-1, 1152, 7, 7]               0\n",
            "AdaptiveAvgPool2d-225           [-1, 1152, 1, 1]               0\n",
            "          Conv2d-226             [-1, 48, 1, 1]          55,344\n",
            "            SiLU-227             [-1, 48, 1, 1]               0\n",
            "          Conv2d-228           [-1, 1152, 1, 1]          56,448\n",
            "         Sigmoid-229           [-1, 1152, 1, 1]               0\n",
            "SqueezeExcitation-230           [-1, 1152, 7, 7]               0\n",
            "          Conv2d-231            [-1, 192, 7, 7]         221,184\n",
            "     BatchNorm2d-232            [-1, 192, 7, 7]             384\n",
            " StochasticDepth-233            [-1, 192, 7, 7]               0\n",
            "          MBConv-234            [-1, 192, 7, 7]               0\n",
            "          Conv2d-235           [-1, 1152, 7, 7]         221,184\n",
            "     BatchNorm2d-236           [-1, 1152, 7, 7]           2,304\n",
            "            SiLU-237           [-1, 1152, 7, 7]               0\n",
            "          Conv2d-238           [-1, 1152, 7, 7]          10,368\n",
            "     BatchNorm2d-239           [-1, 1152, 7, 7]           2,304\n",
            "            SiLU-240           [-1, 1152, 7, 7]               0\n",
            "AdaptiveAvgPool2d-241           [-1, 1152, 1, 1]               0\n",
            "          Conv2d-242             [-1, 48, 1, 1]          55,344\n",
            "            SiLU-243             [-1, 48, 1, 1]               0\n",
            "          Conv2d-244           [-1, 1152, 1, 1]          56,448\n",
            "         Sigmoid-245           [-1, 1152, 1, 1]               0\n",
            "SqueezeExcitation-246           [-1, 1152, 7, 7]               0\n",
            "          Conv2d-247            [-1, 320, 7, 7]         368,640\n",
            "     BatchNorm2d-248            [-1, 320, 7, 7]             640\n",
            "          MBConv-249            [-1, 320, 7, 7]               0\n",
            "          Conv2d-250           [-1, 1280, 7, 7]         409,600\n",
            "     BatchNorm2d-251           [-1, 1280, 7, 7]           2,560\n",
            "            SiLU-252           [-1, 1280, 7, 7]               0\n",
            "AdaptiveAvgPool2d-253           [-1, 1280, 1, 1]               0\n",
            "        Identity-254                 [-1, 1280]               0\n",
            "    EfficientNet-255                 [-1, 1280]               0\n",
            "          Linear-256                  [-1, 128]         163,968\n",
            "            ReLU-257                  [-1, 128]               0\n",
            "         Dropout-258                  [-1, 128]               0\n",
            "          Linear-259                   [-1, 64]           8,256\n",
            "            ReLU-260                   [-1, 64]               0\n",
            "         Dropout-261                   [-1, 64]               0\n",
            "          Linear-262                    [-1, 7]             455\n",
            "================================================================\n",
            "Total params: 4,180,227\n",
            "Trainable params: 172,679\n",
            "Non-trainable params: 4,007,548\n",
            "----------------------------------------------------------------\n",
            "Input size (MB): 0.57\n",
            "Forward/backward pass size (MB): 173.66\n",
            "Params size (MB): 15.95\n",
            "Estimated Total Size (MB): 190.18\n",
            "----------------------------------------------------------------\n"
          ]
        }
      ]
    },
    {
      "cell_type": "code",
      "execution_count": 22,
      "metadata": {
        "id": "mD9tjG2fEkWv"
      },
      "outputs": [],
      "source": [
        "def train_one_epoch(model, loader, optimizer, criterion):\n",
        "    model.train()\n",
        "    total_loss, total_correct = 0, 0\n",
        "\n",
        "    for images, labels in loader:\n",
        "        images, labels = images.to(device), labels.to(device)\n",
        "\n",
        "        optimizer.zero_grad()\n",
        "        outputs = model(images)\n",
        "        loss = criterion(outputs, labels)\n",
        "        loss.backward()\n",
        "        optimizer.step()\n",
        "\n",
        "        total_loss += loss.item()\n",
        "        total_correct += (outputs.argmax(1) == labels).sum().item()\n",
        "\n",
        "    accuracy = total_correct / len(loader.dataset)\n",
        "    return total_loss / len(loader), accuracy"
      ]
    },
    {
      "cell_type": "code",
      "execution_count": 23,
      "metadata": {
        "id": "TQssCRAWEqZF"
      },
      "outputs": [],
      "source": [
        "def validate_one_epoch(model, dataloader, criterion):\n",
        "    model.eval()\n",
        "    running_loss = 0.0\n",
        "    correct = 0\n",
        "    total = 0\n",
        "\n",
        "    with torch.no_grad():\n",
        "        for images, labels in dataloader:\n",
        "            images = images.to(device)\n",
        "            labels = labels.to(device)\n",
        "            outputs = model(images)\n",
        "            loss = criterion(outputs, labels)\n",
        "\n",
        "            running_loss += loss.item() * images.size(0)\n",
        "            _, predicted = torch.max(outputs, 1)\n",
        "            total += labels.size(0)\n",
        "            correct += (predicted == labels).sum().item()\n",
        "\n",
        "    avg_loss = running_loss / total\n",
        "    accuracy = correct / total\n",
        "\n",
        "    return avg_loss, accuracy\n"
      ]
    },
    {
      "cell_type": "code",
      "execution_count": 24,
      "metadata": {
        "id": "nB9fJ0cXJuTl"
      },
      "outputs": [],
      "source": [
        "def unfreeze_mobilenet(model):\n",
        "    for param in model.base_model.features[5:].parameters():\n",
        "        param.requires_grad = True\n"
      ]
    },
    {
      "cell_type": "code",
      "source": [
        "\n",
        "patience=3\n",
        "patience_counter=0\n",
        "\n",
        "for epoch in range(1, 51):\n",
        "    if epoch == 10:\n",
        "      unfreeze_mobilenet(model)\n",
        "      print(\"✅ Unfroze last few layers of MobileNetV2\")\n",
        "    train_loss, train_acc = train_one_epoch(model, train_loader, optimizer, criterion)\n",
        "    val_loss, val_acc = validate_one_epoch(model, val_loader, criterion)\n",
        "    scheduler.step(val_loss)\n",
        "\n",
        "\n",
        "\n",
        "    print(f\"Epoch {epoch} | Train Acc: {train_acc:.4f}, Val Acc: {val_acc:.4f}\")\n",
        "    history[\"train_acc\"].append(train_acc)\n",
        "    history[\"val_acc\"].append(val_acc)\n",
        "    history[\"train_loss\"].append(train_loss)\n",
        "    history[\"val_loss\"].append(val_loss)\n",
        "\n",
        "    if val_acc > best_acc:\n",
        "      best_acc = val_acc\n",
        "      patience_counter = 0\n",
        "      torch.save(model.state_dict(), f\"best.pt\")\n",
        "    else:\n",
        "      patience_counter += 1\n",
        "      if patience_counter >= patience:\n",
        "          print(\"Early stopping triggered\")\n",
        "          break\n",
        "\n",
        "\n",
        "\n",
        "\n",
        "\n",
        "histories = deepcopy(history)"
      ],
      "metadata": {
        "id": "B37kedJ08GGH",
        "colab": {
          "base_uri": "https://localhost:8080/"
        },
        "outputId": "6f51eefb-d12d-4ece-e194-310c6e42177e"
      },
      "execution_count": null,
      "outputs": [
        {
          "output_type": "stream",
          "name": "stderr",
          "text": [
            "/usr/local/lib/python3.11/dist-packages/torch/optim/lr_scheduler.py:243: UserWarning: The epoch parameter in `scheduler.step()` was not necessary and is being deprecated where possible. Please use `scheduler.step()` to step the scheduler. During the deprecation, if epoch is different from None, the closed form is used instead of the new chainable form, where available. Please open an issue if you are unable to replicate your use case: https://github.com/pytorch/pytorch/issues/new/choose.\n",
            "  warnings.warn(EPOCH_DEPRECATION_WARNING, UserWarning)\n"
          ]
        },
        {
          "output_type": "stream",
          "name": "stdout",
          "text": [
            "Epoch 1 | Train Acc: 0.2256, Val Acc: 0.3755\n",
            "Epoch 2 | Train Acc: 0.3215, Val Acc: 0.3429\n",
            "Epoch 3 | Train Acc: 0.3571, Val Acc: 0.3965\n",
            "Epoch 4 | Train Acc: 0.3773, Val Acc: 0.4329\n",
            "Epoch 5 | Train Acc: 0.3970, Val Acc: 0.4319\n",
            "Epoch 6 | Train Acc: 0.4106, Val Acc: 0.4232\n",
            "Epoch 7 | Train Acc: 0.4252, Val Acc: 0.4357\n",
            "Epoch 8 | Train Acc: 0.4357, Val Acc: 0.4550\n",
            "Epoch 9 | Train Acc: 0.4422, Val Acc: 0.4498\n",
            "✅ Unfroze last few layers of MobileNetV2\n",
            "Epoch 10 | Train Acc: 0.4777, Val Acc: 0.5327\n",
            "Epoch 11 | Train Acc: 0.5585, Val Acc: 0.5944\n",
            "Epoch 12 | Train Acc: 0.5963, Val Acc: 0.5996\n",
            "Epoch 13 | Train Acc: 0.6155, Val Acc: 0.6131\n",
            "Epoch 14 | Train Acc: 0.6335, Val Acc: 0.6190\n"
          ]
        }
      ]
    },
    {
      "cell_type": "code",
      "execution_count": null,
      "metadata": {
        "id": "3EdW4XNVBBub"
      },
      "outputs": [],
      "source": [
        "plt.figure(figsize=(14, 6))\n",
        "plt.plot(histories['train_acc'], label=f'Train Acc')\n",
        "plt.plot(histories['val_acc'], label=f'Val Acc')\n",
        "plt.title(\"Training vs Validation Accuracy\")\n",
        "plt.legend()\n",
        "plt.grid()\n",
        "plt.show()\n",
        "\n",
        "plt.figure(figsize=(14, 6))\n",
        "plt.plot(histories['train_loss'], label=f'Train Loss')\n",
        "plt.plot(histories['val_loss'], label=f'Val Loss')\n",
        "plt.title(\"Training vs Validation Loss\")\n",
        "plt.legend()\n",
        "plt.grid()\n",
        "plt.show()\n"
      ]
    },
    {
      "cell_type": "code",
      "source": [],
      "metadata": {
        "id": "NrCCkMe48o64"
      },
      "execution_count": null,
      "outputs": []
    }
  ],
  "metadata": {
    "colab": {
      "provenance": [],
      "gpuType": "T4"
    },
    "kernelspec": {
      "display_name": "Python 3",
      "name": "python3"
    },
    "language_info": {
      "name": "python"
    },
    "accelerator": "GPU"
  },
  "nbformat": 4,
  "nbformat_minor": 0
}